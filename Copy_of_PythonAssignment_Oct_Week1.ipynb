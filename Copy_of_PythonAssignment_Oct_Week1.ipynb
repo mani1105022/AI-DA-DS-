{
  "cells": [
    {
      "cell_type": "markdown",
      "metadata": {
        "id": "view-in-github",
        "colab_type": "text"
      },
      "source": [
        "<a href=\"https://colab.research.google.com/github/mani1105022/AI-DA-DS-/blob/main/Copy_of_PythonAssignment_Oct_Week1.ipynb\" target=\"_parent\"><img src=\"https://colab.research.google.com/assets/colab-badge.svg\" alt=\"Open In Colab\"/></a>"
      ]
    },
    {
      "metadata": {
        "id": "6tgxENnLvLH7"
      },
      "cell_type": "markdown",
      "source": [
        "# Assignment - Python Basics Practice\n",
        "\n",
        "\n"
      ]
    },
    {
      "metadata": {
        "id": "1VqMdyiivLH-"
      },
      "cell_type": "markdown",
      "source": [
        "## Variables and Data Types\n",
        "\n",
        "**Q: Assign your name to the variable `name`.**"
      ]
    },
    {
      "metadata": {
        "trusted": true,
        "id": "yVIYuDDMvLH-"
      },
      "cell_type": "code",
      "source": [
        "#Assign my name to the variable name.\n",
        "\n",
        "name = \"Manikandan\"\n"
      ],
      "execution_count": null,
      "outputs": []
    },
    {
      "metadata": {
        "id": "QeK-QA7GvLH-"
      },
      "cell_type": "markdown",
      "source": [
        "**Q: Assign your age (real or fake) to the variable `age`.**"
      ]
    },
    {
      "metadata": {
        "trusted": true,
        "id": "axuBC-y6vLH_",
        "colab": {
          "base_uri": "https://localhost:8080/"
        },
        "outputId": "b9c8c44d-a925-49dd-8a19-b96107a6eb97"
      },
      "cell_type": "code",
      "source": [
        "# Assign your age\n",
        "age = 21\n",
        "\n",
        "# Check if age is real or fake\n",
        "if age == 21:\n",
        "    age_status = \"real\"\n",
        "else:\n",
        "    age_status = \"fake\"\n",
        "\n",
        "# Print the result\n",
        "print(\"Your age is:\", age_status)\n"
      ],
      "execution_count": null,
      "outputs": [
        {
          "output_type": "stream",
          "name": "stdout",
          "text": [
            "Your age is: real\n"
          ]
        }
      ]
    },
    {
      "metadata": {
        "id": "okMEWXHwvLH_"
      },
      "cell_type": "markdown",
      "source": [
        "**Q: Assign a boolean value to the variable `has_android_phone`.**"
      ]
    },
    {
      "metadata": {
        "trusted": true,
        "id": "Y6HA_IVGvLH_",
        "colab": {
          "base_uri": "https://localhost:8080/"
        },
        "outputId": "f3776f3c-a672-42bd-c8a6-74233f7d2f4c"
      },
      "cell_type": "code",
      "source": [
        "# Ask the user if they have an Android phone\n",
        "response = input(\"Do you have an Android phone? (yes or no): \").strip().lower()\n",
        "\n",
        "# Assign a boolean value based on the user's response\n",
        "has_android_phone = response == \"yes\"\n",
        "\n",
        "# Print the result\n",
        "print(\"Has Android phone:\", has_android_phone)\n"
      ],
      "execution_count": null,
      "outputs": [
        {
          "output_type": "stream",
          "name": "stdout",
          "text": [
            "Do you have an Android phone? (yes or no): yes\n",
            "Has Android phone: True\n"
          ]
        }
      ]
    },
    {
      "metadata": {
        "id": "QfC_6aXfvLIA"
      },
      "cell_type": "markdown",
      "source": [
        "**Q: Create a dictionary `person` with keys `\"Name\"`, `\"Age\"`, `\"HasAndroidPhone\"` and values using the variables defined above.**"
      ]
    },
    {
      "metadata": {
        "trusted": true,
        "id": "VdNLm3L5vLIA",
        "colab": {
          "base_uri": "https://localhost:8080/"
        },
        "outputId": "4fb81cd9-bc6f-4c3a-e61d-c35367ac837d"
      },
      "cell_type": "code",
      "source": [
        "# Variables\n",
        "name = \"manikandan\"\n",
        "age = 21\n",
        "has_android_phone = True\n",
        "\n",
        "# Create the dictionary\n",
        "person = {\n",
        "    \"Name\": name,\n",
        "    \"Age\": age,\n",
        "    \"HasAndroidPhone\": has_android_phone\n",
        "}\n",
        "\n",
        "# Print the dictionary\n",
        "print(person)\n"
      ],
      "execution_count": null,
      "outputs": [
        {
          "output_type": "stream",
          "name": "stdout",
          "text": [
            "{'Name': 'manikandan', 'Age': 21, 'HasAndroidPhone': True}\n"
          ]
        }
      ]
    },
    {
      "metadata": {
        "id": "ytlWYVM7vLIA"
      },
      "cell_type": "markdown",
      "source": [
        "Let's use the `person` dictionary to print a nice message.\n",
        "\n",
        "\n",
        "\n",
        "\n"
      ]
    },
    {
      "metadata": {
        "trusted": true,
        "id": "r5sq7VvevLIA",
        "colab": {
          "base_uri": "https://localhost:8080/"
        },
        "outputId": "2e5836db-2efb-4463-cf8c-f48476b38634"
      },
      "cell_type": "code",
      "source": [
        "person[\"Name\"] = \"Manikandan\"\n",
        "\n",
        "# Print a personalized message\n",
        "print(f\"Hello, {person['Name']}! You are {person['Age']} years old.\")\n",
        "\n",
        "if person[\"HasAndroidPhone\"]:\n",
        "    print(\"It's great to know you have an Android phone!\")\n",
        "else:\n",
        "    print(\"Seems like you don’t have an Android phone.\")\n"
      ],
      "execution_count": null,
      "outputs": [
        {
          "output_type": "stream",
          "name": "stdout",
          "text": [
            "Hello, Manikandan! You are 21 years old.\n",
            "It's great to know you have an Android phone!\n"
          ]
        }
      ]
    },
    {
      "metadata": {
        "id": "HyQ9W2bGvLIB"
      },
      "cell_type": "markdown",
      "source": [
        "Use a `for` loop to display the `type` of each value stored against each key in `person`.**\n",
        "\n",
        "Here's the expected output for the key `\"Name\"`:\n",
        "\n",
        "```\n",
        "The key \"Name\" has the value \"Derek\" of the type \"<class 'str'>\"\n",
        "```"
      ]
    },
    {
      "cell_type": "code",
      "source": [
        "# Variables\n",
        "name = \"Manikandan\"\n",
        "age = 21\n",
        "has_android_phone = True\n",
        "\n",
        "# Create the dictionary\n",
        "person = {\n",
        "    \"Name\": name,\n",
        "    \"Age\": age,\n",
        "    \"HasAndroidPhone\": has_android_phone\n",
        "}\n",
        "\n",
        "# Loop through each key-value pair in the person dictionary\n",
        "for key, value in person.items():\n",
        "    # Display the key, the value, and the type of the value in the desired format\n",
        "    print(f'The key \"{key}\" has the value \"{value}\" of the type \"<class \\'{type(value).__name__}>\\\"')\n"
      ],
      "metadata": {
        "colab": {
          "base_uri": "https://localhost:8080/"
        },
        "id": "PvpHxYo2bZ4w",
        "outputId": "270bcbac-e9f3-4ab2-9bef-8fab47e3b67d"
      },
      "execution_count": null,
      "outputs": [
        {
          "output_type": "stream",
          "name": "stdout",
          "text": [
            "The key \"Name\" has the value \"Manikandan\" of the type \"<class 'str>\"\n",
            "The key \"Age\" has the value \"21\" of the type \"<class 'int>\"\n",
            "The key \"HasAndroidPhone\" has the value \"True\" of the type \"<class 'bool>\"\n"
          ]
        }
      ]
    },
    {
      "metadata": {
        "id": "L5VT5-3yvLIB"
      },
      "cell_type": "markdown",
      "source": [
        "## Working with Lists\n",
        "\n",
        "**Q: Create a list containing the following 3 elements:**\n",
        "\n",
        "* your favorite color\n",
        "* the number of pets you have\n",
        "* a boolean value describing whether you have previous programming experience\n"
      ]
    },
    {
      "metadata": {
        "trusted": true,
        "id": "KKXeilefvLIB",
        "colab": {
          "base_uri": "https://localhost:8080/"
        },
        "outputId": "8b1d5e2d-2ddd-4dce-dd91-bb704ea4bffa"
      },
      "cell_type": "code",
      "source": [
        "# Step 1: Define your favorite color\n",
        "favorite_color = \"blue\"\n",
        "\n",
        "# Step 2: Define the number of pets you have\n",
        "number_of_pets = 2\n",
        "\n",
        "# Step 3: Define whether you have previous programming experience\n",
        "previous_programming_experience = True\n",
        "\n",
        "# Step 4: Create a list containing the three elements\n",
        "my_info = [favorite_color, number_of_pets, previous_programming_experience]\n",
        "\n",
        "# Step 5: Print the list to see its contents\n",
        "print(\"My information list:\")\n",
        "print(my_info)\n",
        "\n",
        "# Step 6: Accessing elements in the list\n",
        "print(\"\\nFavorite Color:\", my_info[0])\n",
        "print(\"Number of Pets:\", my_info[1])\n",
        "print(\"Previous Programming Experience:\", my_info[2])\n",
        "\n",
        "# Step 7: Modifying an element in the list\n",
        "my_info[0] = \"green\"\n",
        "print(\"\\nUpdated list after changing favorite color:\")\n",
        "print(my_info)\n",
        "\n",
        "# Step 8: Adding an element to the list\n",
        "my_info.append(\"new_element\")\n",
        "print(\"\\nList after adding a new element:\")\n",
        "print(my_info)\n",
        "\n",
        "# Step 9: Removing an element from the list\n",
        "my_info.remove(\"new_element\")\n",
        "print(\"\\nList after removing the new element:\")\n",
        "print(my_info)\n"
      ],
      "execution_count": null,
      "outputs": [
        {
          "output_type": "stream",
          "name": "stdout",
          "text": [
            "My information list:\n",
            "['blue', 2, True]\n",
            "\n",
            "Favorite Color: blue\n",
            "Number of Pets: 2\n",
            "Previous Programming Experience: True\n",
            "\n",
            "Updated list after changing favorite color:\n",
            "['green', 2, True]\n",
            "\n",
            "List after adding a new element:\n",
            "['green', 2, True, 'new_element']\n",
            "\n",
            "List after removing the new element:\n",
            "['green', 2, True]\n"
          ]
        }
      ]
    },
    {
      "metadata": {
        "id": "qPMwq-6RvLIB"
      },
      "cell_type": "markdown",
      "source": [
        "*Let*'s see what the list looks like:"
      ]
    },
    {
      "metadata": {
        "trusted": true,
        "id": "o8NZIpdVvLIB",
        "colab": {
          "base_uri": "https://localhost:8080/"
        },
        "outputId": "47bb15fd-2e18-4799-e0bc-cfb559b04ae2"
      },
      "cell_type": "code",
      "source": [
        "['blue', 2, True]\n"
      ],
      "execution_count": null,
      "outputs": [
        {
          "output_type": "execute_result",
          "data": {
            "text/plain": [
              "['blue', 2, True]"
            ]
          },
          "metadata": {},
          "execution_count": 20
        }
      ]
    },
    {
      "metadata": {
        "id": "5yhV9OtPvLIB"
      },
      "cell_type": "markdown",
      "source": [
        "**Q: Complete the following `print` and `if` statements by accessing the appropriate elements from `my_list`.**\n",
        "\n",
        "*Hint*: Use the list indexing notation `[]`."
      ]
    },
    {
      "metadata": {
        "trusted": true,
        "id": "xkkR9UObvLIB",
        "colab": {
          "base_uri": "https://localhost:8080/"
        },
        "outputId": "1f45424e-42f1-4317-829b-20bf64514c91"
      },
      "cell_type": "code",
      "source": [
        "print('My favorite color is', my_info[0])"
      ],
      "execution_count": null,
      "outputs": [
        {
          "output_type": "stream",
          "name": "stdout",
          "text": [
            "My favorite color is green\n"
          ]
        }
      ]
    },
    {
      "metadata": {
        "trusted": true,
        "id": "wS04XOMqvLIB",
        "colab": {
          "base_uri": "https://localhost:8080/"
        },
        "outputId": "6d5a3bf8-eccf-455c-9d79-004b4c4be3fa"
      },
      "cell_type": "code",
      "source": [
        "print('I have {} pet(s).'.format(my_list[1]))\n"
      ],
      "execution_count": null,
      "outputs": [
        {
          "output_type": "stream",
          "name": "stdout",
          "text": [
            "I have 2 pet(s).\n"
          ]
        }
      ]
    },
    {
      "metadata": {
        "trusted": true,
        "id": "oj9kdoAUvLIB",
        "colab": {
          "base_uri": "https://localhost:8080/"
        },
        "outputId": "4fcbad5f-d7e8-4f22-cfd3-cab23e0a1a42"
      },
      "cell_type": "code",
      "source": [
        "if my_list[2]:\n",
        "    print(\"I have previous programming experience\")\n",
        "else:\n",
        "    print(\"I do not have previous programming experience\")"
      ],
      "execution_count": null,
      "outputs": [
        {
          "output_type": "stream",
          "name": "stdout",
          "text": [
            "I have previous programming experience\n"
          ]
        }
      ]
    },
    {
      "metadata": {
        "id": "IBhCrzSmvLIC"
      },
      "cell_type": "markdown",
      "source": [
        "**Q: Add your favorite single digit number to the end of the list using the appropriate list method.**"
      ]
    },
    {
      "metadata": {
        "trusted": true,
        "id": "mknB7HzavLIC",
        "colab": {
          "base_uri": "https://localhost:8080/"
        },
        "outputId": "b457edbe-0c1e-4cbe-852b-cd516c07ffa2"
      },
      "cell_type": "code",
      "source": [
        "# Assume the list is already defined\n",
        "my_list = [\"blue\", 2, True]  # Example list\n",
        "\n",
        "# Adding a single-digit number to the end of the list\n",
        "my_list.append(7)  # Replace 7 with favorite single-digit number\n",
        "\n",
        "# Display the updated list\n",
        "print(my_list)\n"
      ],
      "execution_count": null,
      "outputs": [
        {
          "output_type": "stream",
          "name": "stdout",
          "text": [
            "['blue', 2, True, 7]\n"
          ]
        }
      ]
    },
    {
      "metadata": {
        "id": "8i7A_tYAvLIC"
      },
      "cell_type": "markdown",
      "source": [
        "*Let*'s see if the number shows up in the list."
      ]
    },
    {
      "metadata": {
        "trusted": true,
        "id": "IOWnzL2vvLIC",
        "colab": {
          "base_uri": "https://localhost:8080/"
        },
        "outputId": "b7c82d00-d03d-4486-b0fe-45b847350c2f"
      },
      "cell_type": "code",
      "source": [
        "['blue', 2, True, 7]\n"
      ],
      "execution_count": null,
      "outputs": [
        {
          "output_type": "execute_result",
          "data": {
            "text/plain": [
              "['blue', 2, True, 7]"
            ]
          },
          "metadata": {},
          "execution_count": 29
        }
      ]
    },
    {
      "metadata": {
        "id": "SWHbz8oNvLIC"
      },
      "cell_type": "markdown",
      "source": [
        "**Q: Remove the first element of the list, using the appropriate list method.**\n",
        "\n",
        "*Hint*: Check out methods of list here: https://www.w3schools.com/python/python_ref_list.asp"
      ]
    },
    {
      "metadata": {
        "trusted": true,
        "id": "ym4Y8jKgvLIC",
        "colab": {
          "base_uri": "https://localhost:8080/"
        },
        "outputId": "acb29b3c-5431-4cd5-a069-70041aa4e72f"
      },
      "cell_type": "code",
      "source": [
        "# Assuming my_list already has some elements\n",
        "my_list = ['blue', 2, True, 7]  # Example list\n",
        "\n",
        "# Removing the first element\n",
        "my_list.pop(0)\n",
        "\n",
        "# Display the updated list\n",
        "print(my_list)\n"
      ],
      "execution_count": null,
      "outputs": [
        {
          "output_type": "stream",
          "name": "stdout",
          "text": [
            "[2, True, 7]\n"
          ]
        }
      ]
    },
    {
      "metadata": {
        "id": "PoUaBIy6vLIC"
      },
      "cell_type": "markdown",
      "source": [
        "**Q: Complete the `print` statement below to display the number of elements in `my_list`.**"
      ]
    },
    {
      "metadata": {
        "trusted": true,
        "id": "dNKqXe-OvLIC",
        "colab": {
          "base_uri": "https://localhost:8080/"
        },
        "outputId": "49f1c9eb-5849-4e49-b470-4ec4aa89fd74"
      },
      "cell_type": "code",
      "source": [
        "# Assuming my_list is already defined\n",
        "my_list = [2, True, 7]  # Example list after removing the first element\n",
        "\n",
        "# Displaying the number of elements in my_list\n",
        "print(\"The number of elements in my_list is\", len(my_list))\n"
      ],
      "execution_count": null,
      "outputs": [
        {
          "output_type": "stream",
          "name": "stdout",
          "text": [
            "The number of elements in my_list is 3\n"
          ]
        }
      ]
    },
    {
      "metadata": {
        "id": "zxabeFFzvLIH"
      },
      "cell_type": "markdown",
      "source": [
        "## Conditions and loops\n",
        "\n",
        "**Q: Calculate and display the sum of all the numbers divisible by 7 between 18 and 534 i.e. `21+28+35+...+525+532`**.\n",
        "\n",
        "*Hint*: One way to do this is to loop over a `range` using `for` and use an `if` statement inside it."
      ]
    },
    {
      "metadata": {
        "trusted": true,
        "id": "xBYbCDgqvLIH",
        "colab": {
          "base_uri": "https://localhost:8080/"
        },
        "outputId": "d1f02b4a-e0a2-4473-dfb6-1b58977355fa"
      },
      "cell_type": "code",
      "source": [
        "# Initialize the sum\n",
        "sum_of_numbers = 0\n",
        "\n",
        "# Loop over the range from 18 to 534 (inclusive)\n",
        "for number in range(18, 535):  # 535 is used to include 534 in the range\n",
        "    # Check if the number is divisible by 7\n",
        "    if number % 7 == 0:\n",
        "        sum_of_numbers += number  # Add the number to the sum\n",
        "\n",
        "# Display the result\n",
        "print('The sum of all the numbers divisible by 7 between 18 and 534 is', sum_of_numbers)\n"
      ],
      "execution_count": null,
      "outputs": [
        {
          "output_type": "stream",
          "name": "stdout",
          "text": [
            "The sum of all the numbers divisible by 7 between 18 and 534 is 20461\n"
          ]
        }
      ]
    },
    {
      "metadata": {
        "trusted": true,
        "id": "ia99bHJhvLIH",
        "colab": {
          "base_uri": "https://localhost:8080/"
        },
        "outputId": "0bd79181-2514-4f17-e18a-7441020687ce"
      },
      "cell_type": "code",
      "source": [
        "print('The sum of all the numbers divisible by 7 between 18 and 534 is', sum_of_numbers)"
      ],
      "execution_count": null,
      "outputs": [
        {
          "output_type": "stream",
          "name": "stdout",
          "text": [
            "The sum of all the numbers divisible by 7 between 18 and 534 is 20461\n"
          ]
        }
      ]
    },
    {
      "cell_type": "markdown",
      "source": [
        "## Lists"
      ],
      "metadata": {
        "id": "4ViBWsq_CJR4"
      }
    },
    {
      "cell_type": "markdown",
      "source": [
        "Q1: Write a Python program that takes a list of integers as input and performs the following operations:\n",
        "\n",
        "Remove all duplicates from the list.\n",
        "\n",
        "Sort the list in descending order.\n",
        "\n",
        "Print the second largest number from the list."
      ],
      "metadata": {
        "id": "rGHhWCZKCLld"
      }
    },
    {
      "metadata": {
        "trusted": true,
        "id": "SZ82tPFVvLIL",
        "colab": {
          "base_uri": "https://localhost:8080/"
        },
        "outputId": "330bccaa-11e1-4ef5-cacd-47399eb5a5f1"
      },
      "cell_type": "code",
      "source": [
        "# Sample input list of integers\n",
        "numbers = [5, 3, 8, 6, 3, 8, 7, 6, 5, 9]\n",
        "\n",
        "# Step 1: Remove duplicates by converting the list to a set, then back to a list\n",
        "unique_numbers = list(set(numbers))\n",
        "\n",
        "# Step 2: Sort the list in descending order\n",
        "unique_numbers.sort(reverse=True)\n",
        "\n",
        "# Step 3: Print the second largest number\n",
        "if len(unique_numbers) > 1:\n",
        "    print(\"The second largest number is:\", unique_numbers[1])\n",
        "else:\n",
        "    print(\"There is no second largest number.\")\n"
      ],
      "execution_count": null,
      "outputs": [
        {
          "output_type": "stream",
          "name": "stdout",
          "text": [
            "The second largest number is: 8\n"
          ]
        }
      ]
    },
    {
      "cell_type": "markdown",
      "source": [
        "## Dictionary"
      ],
      "metadata": {
        "id": "XQEcpkFdCavt"
      }
    },
    {
      "cell_type": "markdown",
      "source": [
        "Q2: Create a dictionary from two lists, one containing student names and the other containing their scores. Then, write a program to:\n",
        "\n",
        "Print the dictionary.\n",
        "\n",
        "Find the student with the highest score.\n",
        "\n",
        "Add a new student with a given score to the dictionary."
      ],
      "metadata": {
        "id": "sHTYSJczCTGB"
      }
    },
    {
      "cell_type": "code",
      "source": [
        "# Step 1: Define the lists of student names and their scores\n",
        "student_names = [\"Alice\", \"Bob\", \"Charlie\", \"David\"]\n",
        "student_scores = [85, 92, 78, 90]\n",
        "\n",
        "# Step 2: Create a dictionary from the two lists using zip\n",
        "students_dict = dict(zip(student_names, student_scores))\n",
        "\n",
        "# Step 3: Print the dictionary\n",
        "print(\"Student Scores Dictionary:\", students_dict)\n",
        "\n",
        "# Step 4: Find the student with the highest score\n",
        "highest_score_student = max(students_dict, key=students_dict.get)\n",
        "print(\"Student with the highest score:\", highest_score_student, \"with a score of\", students_dict[highest_score_student])\n",
        "\n",
        "# Step 5: Add a new student with a given score to the dictionary\n",
        "new_student = \"Eve\"\n",
        "new_score = 88\n",
        "students_dict[new_student] = new_score\n",
        "\n",
        "# Print the updated dictionary\n",
        "print(\"Updated Student Scores Dictionary:\", students_dict)\n"
      ],
      "metadata": {
        "id": "1j5QxWp-CaPV",
        "colab": {
          "base_uri": "https://localhost:8080/"
        },
        "outputId": "ca093a46-5709-4c16-f331-5901b3ceb122"
      },
      "execution_count": null,
      "outputs": [
        {
          "output_type": "stream",
          "name": "stdout",
          "text": [
            "Student Scores Dictionary: {'Alice': 85, 'Bob': 92, 'Charlie': 78, 'David': 90}\n",
            "Student with the highest score: Bob with a score of 92\n",
            "Updated Student Scores Dictionary: {'Alice': 85, 'Bob': 92, 'Charlie': 78, 'David': 90, 'Eve': 88}\n"
          ]
        }
      ]
    },
    {
      "cell_type": "markdown",
      "source": [
        "#Tuple"
      ],
      "metadata": {
        "id": "2hyaanCNCiIi"
      }
    },
    {
      "cell_type": "markdown",
      "source": [
        "3: Write a Python program to create a tuple from a list of integers. Then:\n",
        "\n",
        "Find the minimum, maximum, and sum of the elements in the tuple.\n",
        "\n",
        "Convert the tuple into a string and print it."
      ],
      "metadata": {
        "id": "JXCvRY60CdIC"
      }
    },
    {
      "cell_type": "code",
      "source": [
        "# Step 1: Define a list of integers\n",
        "int_list = [4, 7, 2, 9, 5]\n",
        "\n",
        "# Step 2: Create a tuple from the list\n",
        "int_tuple = tuple(int_list)\n",
        "\n",
        "# Step 3: Find the minimum, maximum, and sum of the elements in the tuple\n",
        "min_value = min(int_tuple)\n",
        "max_value = max(int_tuple)\n",
        "sum_value = sum(int_tuple)\n",
        "\n",
        "# Print the results\n",
        "print(\"Tuple:\", int_tuple)\n",
        "print(\"Minimum value:\", min_value)\n",
        "print(\"Maximum value:\", max_value)\n",
        "print(\"Sum of values:\", sum_value)\n",
        "\n",
        "# Step 4: Convert the tuple into a string and print it\n",
        "tuple_string = ''.join(map(str, int_tuple))\n",
        "print(\"Tuple as a string:\", tuple_string)\n"
      ],
      "metadata": {
        "id": "DuJ7X4WECjob",
        "colab": {
          "base_uri": "https://localhost:8080/"
        },
        "outputId": "1029a9a1-d2bb-4dc0-f7d3-e675264d61f1"
      },
      "execution_count": null,
      "outputs": [
        {
          "output_type": "stream",
          "name": "stdout",
          "text": [
            "Tuple: (4, 7, 2, 9, 5)\n",
            "Minimum value: 2\n",
            "Maximum value: 9\n",
            "Sum of values: 27\n",
            "Tuple as a string: 47295\n"
          ]
        }
      ]
    },
    {
      "cell_type": "markdown",
      "source": [
        "##Numpy"
      ],
      "metadata": {
        "id": "1kYvyW6XCzeq"
      }
    },
    {
      "cell_type": "markdown",
      "source": [
        "\n",
        "Q4: Using the NumPy library:\n",
        "\n",
        "Create a 3x3 matrix filled with random integers between 1 and 20.\n",
        "\n",
        "Replace all values greater than 10 with 0.\n",
        "\n",
        "Find the mean of the modified matrix."
      ],
      "metadata": {
        "id": "OPqNJ7fyCkAA"
      }
    },
    {
      "cell_type": "code",
      "source": [
        "import numpy as np\n",
        "\n",
        "# Step 1: Create a 3x3 matrix filled with random integers between 1 and 20\n",
        "matrix = np.random.randint(1, 21, size=(3, 3))\n",
        "print(\"Original Matrix:\\n\", matrix)\n",
        "\n",
        "# Step 2: Replace all values greater than 10 with 0\n",
        "matrix[matrix > 10] = 0\n",
        "print(\"Modified Matrix:\\n\", matrix)\n",
        "\n",
        "# Step 3: Find the mean of the modified matrix\n",
        "mean_value = np.mean(matrix)\n",
        "print(\"Mean of the Modified Matrix:\", mean_value)\n"
      ],
      "metadata": {
        "id": "nYOz4En9CxGp",
        "colab": {
          "base_uri": "https://localhost:8080/"
        },
        "outputId": "b891b577-7a5c-4932-e8d9-b7b99ab103ad"
      },
      "execution_count": null,
      "outputs": [
        {
          "output_type": "stream",
          "name": "stdout",
          "text": [
            "Original Matrix:\n",
            " [[11 16  6]\n",
            " [18  8 13]\n",
            " [ 6 14 16]]\n",
            "Modified Matrix:\n",
            " [[0 0 6]\n",
            " [0 8 0]\n",
            " [6 0 0]]\n",
            "Mean of the Modified Matrix: 2.2222222222222223\n"
          ]
        }
      ]
    },
    {
      "cell_type": "markdown",
      "source": [
        "## Pandas"
      ],
      "metadata": {
        "id": "8Z0UcbZXC1U0"
      }
    },
    {
      "cell_type": "markdown",
      "source": [
        "Q5: Using the Pandas library:\n",
        "\n",
        "Create a DataFrame from a dictionary where the keys are column names, and the values are lists representing data for each column.\n",
        "\n",
        "Add a new column to the DataFrame by calculating the difference between two existing columns.\n",
        "\n",
        "Drop any rows where the value in a specific column is less than 50."
      ],
      "metadata": {
        "id": "abiz20V4C1RS"
      }
    },
    {
      "cell_type": "code",
      "source": [
        "import pandas as pd\n",
        "\n",
        "# Step 1: Create a DataFrame from a dictionary\n",
        "data = {\n",
        "    'A': [100, 200, 150, 50, 80],\n",
        "    'B': [40, 20, 30, 60, 90]\n",
        "}\n",
        "\n",
        "df = pd.DataFrame(data)\n",
        "print(\"Original DataFrame:\")\n",
        "print(df)\n",
        "\n",
        "# Step 2: Add a new column 'C' by calculating the difference between columns 'A' and 'B'\n",
        "df['C'] = df['A'] - df['B']\n",
        "print(\"\\nDataFrame after adding column 'C' (A - B):\")\n",
        "print(df)\n",
        "\n",
        "# Step 3: Drop any rows where the value in column 'C' is less than 50\n",
        "df = df[df['C'] >= 50]\n",
        "print(\"\\nDataFrame after dropping rows where 'C' is less than 50:\")\n",
        "print(df)\n"
      ],
      "metadata": {
        "id": "ah5WJvzDC7iK",
        "colab": {
          "base_uri": "https://localhost:8080/"
        },
        "outputId": "911c6e6e-f0fc-4d65-fd8f-4f0979aabdbc"
      },
      "execution_count": null,
      "outputs": [
        {
          "output_type": "stream",
          "name": "stdout",
          "text": [
            "Original DataFrame:\n",
            "     A   B\n",
            "0  100  40\n",
            "1  200  20\n",
            "2  150  30\n",
            "3   50  60\n",
            "4   80  90\n",
            "\n",
            "DataFrame after adding column 'C' (A - B):\n",
            "     A   B    C\n",
            "0  100  40   60\n",
            "1  200  20  180\n",
            "2  150  30  120\n",
            "3   50  60  -10\n",
            "4   80  90  -10\n",
            "\n",
            "DataFrame after dropping rows where 'C' is less than 50:\n",
            "     A   B    C\n",
            "0  100  40   60\n",
            "1  200  20  180\n",
            "2  150  30  120\n"
          ]
        }
      ]
    },
    {
      "cell_type": "markdown",
      "source": [
        "##Exception Handling"
      ],
      "metadata": {
        "id": "VF5MTuC7C_94"
      }
    },
    {
      "cell_type": "markdown",
      "source": [
        "\n",
        "Q6: Write a Python program to perform division of two user-input numbers. Implement exception handling to:\n",
        "\n",
        "Catch the division by zero error.\n",
        "\n",
        "Catch invalid input type errors (e.g., if the user enters a string instead of a number).\n",
        "\n",
        "Ensure the program runs successfully even if an error occurs. (Hint: Add finally)"
      ],
      "metadata": {
        "id": "vLTDuZGuC_3d"
      }
    },
    {
      "cell_type": "code",
      "source": [
        "def divide_numbers():\n",
        "    while True:\n",
        "        try:\n",
        "            # Take user input for the numerator and denominator\n",
        "            numerator = float(input(\"Enter the numerator: \"))\n",
        "            denominator = float(input(\"Enter the denominator: \"))\n",
        "\n",
        "            # Perform the division\n",
        "            result = numerator / denominator\n",
        "            print(f\"The result of {numerator} divided by {denominator} is: {result}\")\n",
        "            break  # Exit the loop if the operation is successful\n",
        "\n",
        "        except ZeroDivisionError:\n",
        "            print(\"Error: Cannot divide by zero. Please enter a valid denominator.\")\n",
        "\n",
        "        except ValueError:\n",
        "            print(\"Error: Invalid input. Please enter numeric values.\")\n",
        "\n",
        "        finally:\n",
        "            print(\"Execution completed. You can try again.\")\n",
        "\n",
        "# Call the function to execute the program\n",
        "divide_numbers()\n"
      ],
      "metadata": {
        "id": "ktyOho_2DHyP",
        "colab": {
          "base_uri": "https://localhost:8080/"
        },
        "outputId": "09f92311-da5a-47a6-a364-e8401d59a88b"
      },
      "execution_count": null,
      "outputs": [
        {
          "output_type": "stream",
          "name": "stdout",
          "text": [
            "Enter the numerator: 44\n",
            "Enter the denominator: 77\n",
            "The result of 44.0 divided by 77.0 is: 0.5714285714285714\n",
            "Execution completed. You can try again.\n"
          ]
        }
      ]
    },
    {
      "cell_type": "markdown",
      "source": [
        "## Matplotlib"
      ],
      "metadata": {
        "id": "rNyZu1w9DeTz"
      }
    },
    {
      "cell_type": "markdown",
      "source": [
        "\n",
        "Q7: Create a line chart using the Matplotlib library to display the population growth over years. The program should:\n",
        "\n",
        "Create dummy data: containing years and population values.\n",
        "\n",
        "Plot the line chart with proper labels for the x-axis, y-axis, and a title."
      ],
      "metadata": {
        "id": "Udg5GavODMuT"
      }
    },
    {
      "cell_type": "code",
      "source": [
        "import matplotlib.pyplot as plt\n",
        "\n",
        "# Step 1: Create dummy data\n",
        "years = [2000, 2005, 2010, 2015, 2020]\n",
        "population = [6.1, 6.5, 6.9, 7.3, 7.8]  # Population in billions\n",
        "\n",
        "# Step 2: Plot the line chart\n",
        "plt.figure(figsize=(10, 5))\n",
        "plt.plot(years, population, marker='o', color='b', linestyle='-', linewidth=2, markersize=8)\n",
        "\n",
        "# Step 3: Add labels and title\n",
        "plt.title('Population Growth Over Years', fontsize=16)\n",
        "plt.xlabel('Year', fontsize=14)\n",
        "plt.ylabel('Population (in billions)', fontsize=14)\n",
        "plt.grid(True)\n",
        "\n",
        "# Show the plot\n",
        "plt.xticks(years)  # Set x-ticks to be the years\n",
        "plt.show()\n"
      ],
      "metadata": {
        "id": "k6nTd1wRDdUg",
        "colab": {
          "base_uri": "https://localhost:8080/",
          "height": 494
        },
        "outputId": "48a4d0b6-7b04-438f-ce8c-1b48329ef1e9"
      },
      "execution_count": null,
      "outputs": [
        {
          "output_type": "display_data",
          "data": {
            "text/plain": [
              "<Figure size 1000x500 with 1 Axes>"
            ],
            "image/png": "[encoded data removed]"
          },
          "metadata": {}
        }
      ]
    },
    {
      "cell_type": "markdown",
      "source": [
        "## Seaborn"
      ],
      "metadata": {
        "id": "_W9lJpzZDxNF"
      }
    },
    {
      "cell_type": "markdown",
      "source": [
        "\n",
        "Q8: Using the Seaborn library, plot a distribution of the sepal_length column from the Iris dataset. The program should:\n",
        "\n",
        "Load the 'iris' dataset from Seaborn's sample datasets.\n",
        "Plot a KDE (Kernel Density Estimation) plot for the sepal_length column.\n",
        "Customize the plot with a title and set the color of the plot to blue.\n"
      ],
      "metadata": {
        "id": "hM12mAgqDyId"
      }
    },
    {
      "cell_type": "code",
      "source": [
        "import seaborn as sns\n",
        "import matplotlib.pyplot as plt\n",
        "\n",
        "# Step 1: Load the 'iris' dataset\n",
        "iris = sns.load_dataset('iris')\n",
        "\n",
        "# Step 2: Create a KDE plot for the 'sepal_length' column\n",
        "plt.figure(figsize=(10, 5))\n",
        "sns.kdeplot(data=iris, x='sepal_length', color='blue', fill=True)\n",
        "\n",
        "# Step 3: Customize the plot\n",
        "plt.title('Distribution of Sepal Length in Iris Dataset', fontsize=16)\n",
        "plt.xlabel('Sepal Length (cm)', fontsize=14)\n",
        "plt.ylabel('Density', fontsize=14)\n",
        "plt.grid(True)\n",
        "\n",
        "# Show the plot\n",
        "plt.show()\n"
      ],
      "metadata": {
        "id": "3CYknAGGDzpK",
        "colab": {
          "base_uri": "https://localhost:8080/",
          "height": 494
        },
        "outputId": "df5b7d89-fa63-4e79-a29e-1ec19edbe213"
      },
      "execution_count": null,
      "outputs": [
        {
          "output_type": "display_data",
          "data": {
            "text/plain": [
              "<Figure size 1000x500 with 1 Axes>"
            ],
            "image/png": "[encoded data removed]"
          },
          "metadata": {}
        }
      ]
    },
    {
      "cell_type": "markdown",
      "source": [
        "## Pandas DataFrame"
      ],
      "metadata": {
        "id": "fFTydMAXD-cD"
      }
    },
    {
      "cell_type": "markdown",
      "source": [
        "\n",
        "Q9: Write a Python program to perform the following operations on the Iris dataset:\n",
        "\n",
        "Load the dataset into a Pandas DataFrame.\n",
        "\n",
        "Display the first 10 rows of the DataFrame.\n",
        "\n",
        "Group the data by the species column and calculate the mean of each numeric column for each species.\n",
        "\n",
        "Add a new column sepal_area that is the product of sepal_length and sepal_width.\n",
        "\n",
        "Filter the DataFrame to show only rows where sepal_area is greater than 20."
      ],
      "metadata": {
        "id": "nZSrcAuuD-Yt"
      }
    },
    {
      "cell_type": "code",
      "source": [
        "import pandas as pd\n",
        "import seaborn as sns\n",
        "\n",
        "# Step 1: Load the Iris dataset into a Pandas DataFrame\n",
        "iris = sns.load_dataset('iris')\n",
        "\n",
        "# Step 2: Display the first 10 rows of the DataFrame\n",
        "print(\"First 10 rows of the DataFrame:\")\n",
        "print(iris.head(10))\n",
        "\n",
        "# Step 3: Group the data by the species column and calculate the mean of each numeric column for each species\n",
        "mean_by_species = iris.groupby('species').mean()\n",
        "print(\"\\nMean of each numeric column for each species:\")\n",
        "print(mean_by_species)\n",
        "\n",
        "# Step 4: Add a new column sepal_area that is the product of sepal_length and sepal_width\n",
        "iris['sepal_area'] = iris['sepal_length'] * iris['sepal_width']\n",
        "\n",
        "# Step 5: Filter the DataFrame to show only rows where sepal_area is greater than 20\n",
        "filtered_iris = iris[iris['sepal_area'] > 20]\n",
        "print(\"\\nFiltered DataFrame where sepal_area is greater than 20:\")\n",
        "print(filtered_iris)\n"
      ],
      "metadata": {
        "id": "vWpR1ZA1EE5v",
        "colab": {
          "base_uri": "https://localhost:8080/"
        },
        "outputId": "7122ff99-a3b3-4fd3-881f-fd4def8ac06a"
      },
      "execution_count": null,
      "outputs": [
        {
          "output_type": "stream",
          "name": "stdout",
          "text": [
            "First 10 rows of the DataFrame:\n",
            "   sepal_length  sepal_width  petal_length  petal_width species\n",
            "0           5.1          3.5           1.4          0.2  setosa\n",
            "1           4.9          3.0           1.4          0.2  setosa\n",
            "2           4.7          3.2           1.3          0.2  setosa\n",
            "3           4.6          3.1           1.5          0.2  setosa\n",
            "4           5.0          3.6           1.4          0.2  setosa\n",
            "5           5.4          3.9           1.7          0.4  setosa\n",
            "6           4.6          3.4           1.4          0.3  setosa\n",
            "7           5.0          3.4           1.5          0.2  setosa\n",
            "8           4.4          2.9           1.4          0.2  setosa\n",
            "9           4.9          3.1           1.5          0.1  setosa\n",
            "\n",
            "Mean of each numeric column for each species:\n",
            "            sepal_length  sepal_width  petal_length  petal_width\n",
            "species                                                         \n",
            "setosa             5.006        3.428         1.462        0.246\n",
            "versicolor         5.936        2.770         4.260        1.326\n",
            "virginica          6.588        2.974         5.552        2.026\n",
            "\n",
            "Filtered DataFrame where sepal_area is greater than 20:\n",
            "     sepal_length  sepal_width  petal_length  petal_width     species  \\\n",
            "5             5.4          3.9           1.7          0.4      setosa   \n",
            "14            5.8          4.0           1.2          0.2      setosa   \n",
            "15            5.7          4.4           1.5          0.4      setosa   \n",
            "16            5.4          3.9           1.3          0.4      setosa   \n",
            "18            5.7          3.8           1.7          0.3      setosa   \n",
            "32            5.2          4.1           1.5          0.1      setosa   \n",
            "33            5.5          4.2           1.4          0.2      setosa   \n",
            "50            7.0          3.2           4.7          1.4  versicolor   \n",
            "51            6.4          3.2           4.5          1.5  versicolor   \n",
            "52            6.9          3.1           4.9          1.5  versicolor   \n",
            "56            6.3          3.3           4.7          1.6  versicolor   \n",
            "65            6.7          3.1           4.4          1.4  versicolor   \n",
            "77            6.7          3.0           5.0          1.7  versicolor   \n",
            "85            6.0          3.4           4.5          1.6  versicolor   \n",
            "86            6.7          3.1           4.7          1.5  versicolor   \n",
            "100           6.3          3.3           6.0          2.5   virginica   \n",
            "102           7.1          3.0           5.9          2.1   virginica   \n",
            "105           7.6          3.0           6.6          2.1   virginica   \n",
            "107           7.3          2.9           6.3          1.8   virginica   \n",
            "109           7.2          3.6           6.1          2.5   virginica   \n",
            "110           6.5          3.2           5.1          2.0   virginica   \n",
            "112           6.8          3.0           5.5          2.1   virginica   \n",
            "115           6.4          3.2           5.3          2.3   virginica   \n",
            "117           7.7          3.8           6.7          2.2   virginica   \n",
            "118           7.7          2.6           6.9          2.3   virginica   \n",
            "120           6.9          3.2           5.7          2.3   virginica   \n",
            "122           7.7          2.8           6.7          2.0   virginica   \n",
            "124           6.7          3.3           5.7          2.1   virginica   \n",
            "125           7.2          3.2           6.0          1.8   virginica   \n",
            "129           7.2          3.0           5.8          1.6   virginica   \n",
            "130           7.4          2.8           6.1          1.9   virginica   \n",
            "131           7.9          3.8           6.4          2.0   virginica   \n",
            "135           7.7          3.0           6.1          2.3   virginica   \n",
            "136           6.3          3.4           5.6          2.4   virginica   \n",
            "139           6.9          3.1           5.4          2.1   virginica   \n",
            "140           6.7          3.1           5.6          2.4   virginica   \n",
            "141           6.9          3.1           5.1          2.3   virginica   \n",
            "143           6.8          3.2           5.9          2.3   virginica   \n",
            "144           6.7          3.3           5.7          2.5   virginica   \n",
            "145           6.7          3.0           5.2          2.3   virginica   \n",
            "148           6.2          3.4           5.4          2.3   virginica   \n",
            "\n",
            "     sepal_area  \n",
            "5         21.06  \n",
            "14        23.20  \n",
            "15        25.08  \n",
            "16        21.06  \n",
            "18        21.66  \n",
            "32        21.32  \n",
            "33        23.10  \n",
            "50        22.40  \n",
            "51        20.48  \n",
            "52        21.39  \n",
            "56        20.79  \n",
            "65        20.77  \n",
            "77        20.10  \n",
            "85        20.40  \n",
            "86        20.77  \n",
            "100       20.79  \n",
            "102       21.30  \n",
            "105       22.80  \n",
            "107       21.17  \n",
            "109       25.92  \n",
            "110       20.80  \n",
            "112       20.40  \n",
            "115       20.48  \n",
            "117       29.26  \n",
            "118       20.02  \n",
            "120       22.08  \n",
            "122       21.56  \n",
            "124       22.11  \n",
            "125       23.04  \n",
            "129       21.60  \n",
            "130       20.72  \n",
            "131       30.02  \n",
            "135       23.10  \n",
            "136       21.42  \n",
            "139       21.39  \n",
            "140       20.77  \n",
            "141       21.39  \n",
            "143       21.76  \n",
            "144       22.11  \n",
            "145       20.10  \n",
            "148       21.08  \n"
          ]
        }
      ]
    },
    {
      "cell_type": "markdown",
      "source": [
        "## Functions"
      ],
      "metadata": {
        "id": "boirWrgRElAS"
      }
    },
    {
      "cell_type": "markdown",
      "source": [
        "Q10: Write a Python program that defines a function to calculate the Body Mass Index (BMI) based on a person's weight and height. The program should:\n",
        "\n",
        "Define a function calculate_bmi(weight, height) that takes the weight (in kilograms) and height (in meters) as arguments and returns the BMI.\n",
        "\n",
        "BMI = weight/(height**2)\n",
        "\n",
        "Use the function to calculate the BMI for a given weight and height input by the user.\n",
        "\n",
        "Define another function bmi_category(bmi) that takes the BMI as input and returns the BMI category:\n",
        "\n",
        "\"Underweight\" if BMI < 18.5\n",
        "\n",
        "\"Normal weight\" if 18.5 <= BMI < 24.9\n",
        "\n",
        "\"Overweight\" if 25 <= BMI < 29.9\n",
        "\n",
        "\"Obese\" if BMI >= 30\n",
        "\n",
        "(Hint; use if elif else multiple conditions)\n",
        "\n",
        "Print the calculated BMI and the corresponding category."
      ],
      "metadata": {
        "id": "Ve2MS7VKEk9C"
      }
    },
    {
      "cell_type": "code",
      "source": [
        "def calculate_bmi(weight, height):\n",
        "    \"\"\"Calculate BMI given weight in kg and height in meters.\"\"\"\n",
        "    bmi = weight / (height ** 2)\n",
        "    return bmi\n",
        "\n",
        "def bmi_category(bmi):\n",
        "    \"\"\"Determine the BMI category based on the BMI value.\"\"\"\n",
        "    if bmi < 18.5:\n",
        "        return \"Underweight\"\n",
        "    elif 18.5 <= bmi < 24.9:\n",
        "        return \"Normal weight\"\n",
        "    elif 25 <= bmi < 29.9:\n",
        "        return \"Overweight\"\n",
        "    else:  # BMI >= 30\n",
        "        return \"Obese\"\n",
        "\n",
        "def main():\n",
        "    # Get user input for weight and height\n",
        "    weight = float(input(\"Enter your weight in kilograms: \"))\n",
        "    height = float(input(\"Enter your height in meters: \"))\n",
        "\n",
        "    # Calculate BMI\n",
        "    bmi = calculate_bmi(weight, height)\n",
        "\n",
        "    # Get the BMI category\n",
        "    category = bmi_category(bmi)\n",
        "\n",
        "    # Print the results\n",
        "    print(f\"Your BMI is: {bmi:.2f}\")\n",
        "    print(f\"You are categorized as: {category}\")\n",
        "\n",
        "# Call the main function to run the program\n",
        "if __name__ == \"__main__\":\n",
        "    main()\n"
      ],
      "metadata": {
        "id": "vk_rMP-8E31G",
        "colab": {
          "base_uri": "https://localhost:8080/"
        },
        "outputId": "3ab7e741-672a-4b89-ae28-55192481d8a3"
      },
      "execution_count": null,
      "outputs": [
        {
          "output_type": "stream",
          "name": "stdout",
          "text": [
            "Enter your weight in kilograms: 2\n",
            "Enter your height in meters: 7\n",
            "Your BMI is: 0.04\n",
            "You are categorized as: Underweight\n"
          ]
        }
      ]
    }
  ],
  "metadata": {
    "kernelspec": {
      "language": "python",
      "display_name": "Python 3",
      "name": "python3"
    },
    "language_info": {
      "pygments_lexer": "ipython3",
      "nbconvert_exporter": "python",
      "version": "3.6.4",
      "file_extension": ".py",
      "codemirror_mode": {
        "name": "ipython",
        "version": 3
      },
      "name": "python",
      "mimetype": "text/x-python"
    },
    "colab": {
      "provenance": [],
      "include_colab_link": true
    }
  },
  "nbformat": 4,
  "nbformat_minor": 0
}